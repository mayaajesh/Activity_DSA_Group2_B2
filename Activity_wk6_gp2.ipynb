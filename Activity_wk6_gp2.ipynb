{
 "cells": [
  {
   "cell_type": "markdown",
   "id": "f36f76fe",
   "metadata": {},
   "source": [
    "Activity by Batch 2 Group 2. Members: ABOOBACKER SIDHEEQUE MUKKIL, AJEESH L J, DARSANA BABURAJ, MAYA MOHAN, RASAL V"
   ]
  },
  {
   "cell_type": "code",
   "execution_count": 45,
   "id": "95a1d059",
   "metadata": {},
   "outputs": [],
   "source": [
    "import numpy as np\n",
    "import pandas as pd\n",
    "import matplotlib.pyplot as plt\n",
    "import seaborn as sns"
   ]
  },
  {
   "cell_type": "code",
   "execution_count": 46,
   "id": "4e7bb515",
   "metadata": {},
   "outputs": [],
   "source": [
    "df=pd.read_excel(\"Dataset_w6.xlsx\")"
   ]
  },
  {
   "cell_type": "code",
   "execution_count": 47,
   "id": "8ff96fe5",
   "metadata": {},
   "outputs": [
    {
     "data": {
      "text/html": [
       "<div>\n",
       "<style scoped>\n",
       "    .dataframe tbody tr th:only-of-type {\n",
       "        vertical-align: middle;\n",
       "    }\n",
       "\n",
       "    .dataframe tbody tr th {\n",
       "        vertical-align: top;\n",
       "    }\n",
       "\n",
       "    .dataframe thead th {\n",
       "        text-align: right;\n",
       "    }\n",
       "</style>\n",
       "<table border=\"1\" class=\"dataframe\">\n",
       "  <thead>\n",
       "    <tr style=\"text-align: right;\">\n",
       "      <th></th>\n",
       "      <th>country</th>\n",
       "      <th>Region</th>\n",
       "      <th>Surface area (km2)</th>\n",
       "      <th>Population in thousands (2017)</th>\n",
       "      <th>GDP per capita (current US$)</th>\n",
       "      <th>Agricultural production index</th>\n",
       "      <th>International trade: Imports (million US$)</th>\n",
       "    </tr>\n",
       "  </thead>\n",
       "  <tbody>\n",
       "    <tr>\n",
       "      <th>0</th>\n",
       "      <td>Afghanistan</td>\n",
       "      <td>SouthernAsia</td>\n",
       "      <td>652864</td>\n",
       "      <td>35530</td>\n",
       "      <td>623.2</td>\n",
       "      <td>125</td>\n",
       "      <td>3568</td>\n",
       "    </tr>\n",
       "    <tr>\n",
       "      <th>1</th>\n",
       "      <td>Albania</td>\n",
       "      <td>SouthernEurope</td>\n",
       "      <td>28748</td>\n",
       "      <td>2930</td>\n",
       "      <td>3984.2</td>\n",
       "      <td>134</td>\n",
       "      <td>4669</td>\n",
       "    </tr>\n",
       "    <tr>\n",
       "      <th>2</th>\n",
       "      <td>Algeria</td>\n",
       "      <td>NorthernAfrica</td>\n",
       "      <td>2381741</td>\n",
       "      <td>41318</td>\n",
       "      <td>4154.1</td>\n",
       "      <td>160</td>\n",
       "      <td>47091</td>\n",
       "    </tr>\n",
       "    <tr>\n",
       "      <th>3</th>\n",
       "      <td>Angola</td>\n",
       "      <td>MiddleAfrica</td>\n",
       "      <td>1246700</td>\n",
       "      <td>29784</td>\n",
       "      <td>4714.1</td>\n",
       "      <td>175</td>\n",
       "      <td>8790</td>\n",
       "    </tr>\n",
       "    <tr>\n",
       "      <th>4</th>\n",
       "      <td>Antigua and Barbuda</td>\n",
       "      <td>Caribbean</td>\n",
       "      <td>442</td>\n",
       "      <td>102</td>\n",
       "      <td>14764.5</td>\n",
       "      <td>88</td>\n",
       "      <td>491</td>\n",
       "    </tr>\n",
       "  </tbody>\n",
       "</table>\n",
       "</div>"
      ],
      "text/plain": [
       "               country          Region  Surface area (km2)  \\\n",
       "0          Afghanistan    SouthernAsia              652864   \n",
       "1              Albania  SouthernEurope               28748   \n",
       "2              Algeria  NorthernAfrica             2381741   \n",
       "3               Angola    MiddleAfrica             1246700   \n",
       "4  Antigua and Barbuda       Caribbean                 442   \n",
       "\n",
       "   Population in thousands (2017)  GDP per capita (current US$)  \\\n",
       "0                           35530                         623.2   \n",
       "1                            2930                        3984.2   \n",
       "2                           41318                        4154.1   \n",
       "3                           29784                        4714.1   \n",
       "4                             102                       14764.5   \n",
       "\n",
       "   Agricultural production index   International trade: Imports (million US$)  \n",
       "0                             125                                        3568  \n",
       "1                             134                                        4669  \n",
       "2                             160                                       47091  \n",
       "3                             175                                        8790  \n",
       "4                              88                                         491  "
      ]
     },
     "execution_count": 47,
     "metadata": {},
     "output_type": "execute_result"
    }
   ],
   "source": [
    "df.head()"
   ]
  },
  {
   "cell_type": "markdown",
   "id": "ba1e34a1",
   "metadata": {},
   "source": [
    "# 1. Find out how many countries are there in the dataset"
   ]
  },
  {
   "cell_type": "code",
   "execution_count": 48,
   "id": "5a236c09",
   "metadata": {},
   "outputs": [
    {
     "data": {
      "text/plain": [
       "count                      196\n",
       "unique                     196\n",
       "top       United Arab Emirates\n",
       "freq                         1\n",
       "Name: country, dtype: object"
      ]
     },
     "execution_count": 48,
     "metadata": {},
     "output_type": "execute_result"
    }
   ],
   "source": [
    "df['country'].describe()"
   ]
  },
  {
   "cell_type": "markdown",
   "id": "02c51032",
   "metadata": {},
   "source": [
    "There are 196 countries in the sample data"
   ]
  },
  {
   "cell_type": "markdown",
   "id": "0b93feee",
   "metadata": {},
   "source": [
    "# 2. Examine the data by using visualizations."
   ]
  },
  {
   "cell_type": "code",
   "execution_count": 49,
   "id": "98184a12",
   "metadata": {},
   "outputs": [
    {
     "data": {
      "text/plain": [
       "count             196\n",
       "unique             22\n",
       "top       WesternAsia\n",
       "freq               18\n",
       "Name: Region, dtype: object"
      ]
     },
     "execution_count": 49,
     "metadata": {},
     "output_type": "execute_result"
    }
   ],
   "source": [
    "df['Region'].describe()"
   ]
  },
  {
   "cell_type": "code",
   "execution_count": 50,
   "id": "5fbb2247",
   "metadata": {},
   "outputs": [
    {
     "data": {
      "image/png": "[encoded data removed]",
      "text/plain": [
       "<Figure size 720x720 with 1 Axes>"
      ]
     },
     "metadata": {
      "needs_background": "light"
     },
     "output_type": "display_data"
    }
   ],
   "source": [
    "plt.figure(figsize=(10,10))\n",
    "df.groupby('Region')['GDP per capita (current US$)'].sum().plot(kind = 'bar')\n",
    "plt.title('Region VS GDP per capita (current US$)', fontsize=16)\n",
    "plt.xticks(rotation = 45,fontsize = 10)\n",
    "plt.show()"
   ]
  },
  {
   "cell_type": "code",
   "execution_count": 51,
   "id": "2d3ec734",
   "metadata": {},
   "outputs": [
    {
     "data": {
      "image/png": "[encoded data removed]",
      "text/plain": [
       "<Figure size 720x720 with 1 Axes>"
      ]
     },
     "metadata": {
      "needs_background": "light"
     },
     "output_type": "display_data"
    }
   ],
   "source": [
    "plt.figure(figsize=(10,10))\n",
    "df.groupby('Region')['International trade: Imports (million US$)'].sum().plot(kind = 'bar')\n",
    "plt.title('Region VS International trade: Imports (million US$)', fontsize=16)\n",
    "plt.xticks(rotation = 45,fontsize = 10)\n",
    "plt.show()"
   ]
  },
  {
   "cell_type": "markdown",
   "id": "c3794211",
   "metadata": {},
   "source": [
    "# 3. Find out how many countries with respect to the region are available in the dataset"
   ]
  },
  {
   "cell_type": "code",
   "execution_count": 52,
   "id": "5e30cf66",
   "metadata": {},
   "outputs": [
    {
     "data": {
      "text/plain": [
       "Region\n",
       "Caribbean            16\n",
       "CentralAmerica        8\n",
       "CentralAsia           5\n",
       "EasternAfrica        17\n",
       "EasternAsia           7\n",
       "EasternEurope        10\n",
       "Melanesia             5\n",
       "Micronesia            4\n",
       "MiddleAfrica          9\n",
       "NorthernAfrica        5\n",
       "NorthernAmerica       4\n",
       "NorthernEurope       10\n",
       "Oceania               2\n",
       "Polynesia             5\n",
       "South-easternAsia    11\n",
       "SouthAmerica         12\n",
       "SouthernAfrica        5\n",
       "SouthernAsia          9\n",
       "SouthernEurope       12\n",
       "WesternAfrica        15\n",
       "WesternAsia          18\n",
       "WesternEurope         7\n",
       "Name: country, dtype: int64"
      ]
     },
     "execution_count": 52,
     "metadata": {},
     "output_type": "execute_result"
    }
   ],
   "source": [
    "df.groupby('Region')['country'].count()"
   ]
  },
  {
   "cell_type": "markdown",
   "id": "cffae106",
   "metadata": {},
   "source": [
    "# 4. On average which region has the highest\n",
    "a. GDP per capita (current US$)\n"
   ]
  },
  {
   "cell_type": "code",
   "execution_count": 53,
   "id": "5954e844",
   "metadata": {},
   "outputs": [
    {
     "data": {
      "text/plain": [
       "Region\n",
       "NorthernAmerica      57659.000000\n",
       "WesternEurope        55387.128571\n",
       "Oceania              44823.250000\n",
       "NorthernEurope       42098.220000\n",
       "EasternAsia          27967.614286\n",
       "WesternAsia          17013.938889\n",
       "Caribbean            15135.562500\n",
       "SouthernEurope       14462.741667\n",
       "South-easternAsia    10299.027273\n",
       "EasternEurope         9292.490000\n",
       "Melanesia             9261.960000\n",
       "Polynesia             8686.520000\n",
       "SouthAmerica          8499.775000\n",
       "CentralAmerica        6348.137500\n",
       "Micronesia            5008.300000\n",
       "CentralAsia           4329.880000\n",
       "SouthernAfrica        4191.900000\n",
       "NorthernAfrica        3934.960000\n",
       "MiddleAfrica          3928.833333\n",
       "SouthernAsia          2968.400000\n",
       "EasternAfrica         2088.852941\n",
       "WesternAfrica         1013.140000\n",
       "Name: GDP per capita (current US$), dtype: float64"
      ]
     },
     "execution_count": 53,
     "metadata": {},
     "output_type": "execute_result"
    }
   ],
   "source": [
    "df.groupby('Region')['GDP per capita (current US$)'].mean().sort_values(ascending=False)\n"
   ]
  },
  {
   "cell_type": "markdown",
   "id": "5956d85d",
   "metadata": {},
   "source": [
    "NorthernAmerica has the highest average GDP per capita (current US$) which is equal to 57659.000000"
   ]
  },
  {
   "cell_type": "markdown",
   "id": "2a938529",
   "metadata": {},
   "source": [
    "b. International trade: Imports (million US$)"
   ]
  },
  {
   "cell_type": "code",
   "execution_count": 56,
   "id": "de5ca77e",
   "metadata": {},
   "outputs": [
    {
     "data": {
      "text/plain": [
       "Region\n",
       "NorthernAmerica      663552.250000\n",
       "EasternAsia          451995.000000\n",
       "WesternEurope        407498.428571\n",
       "NorthernEurope       113407.200000\n",
       "Oceania              112914.500000\n",
       "South-easternAsia     98324.636364\n",
       "EasternEurope         85243.900000\n",
       "SouthernEurope        76666.666667\n",
       "SouthernAsia          58199.333333\n",
       "CentralAmerica        57031.500000\n",
       "WesternAsia           46025.555556\n",
       "NorthernAfrica        35034.400000\n",
       "SouthAmerica          32885.666667\n",
       "SouthernAfrica        18005.600000\n",
       "CentralAsia           12063.400000\n",
       "WesternAfrica          4898.333333\n",
       "EasternAfrica          4726.176471\n",
       "MiddleAfrica           4381.222222\n",
       "Caribbean              3057.312500\n",
       "Melanesia              2896.400000\n",
       "Polynesia               432.000000\n",
       "Micronesia               99.000000\n",
       "Name: International trade: Imports (million US$), dtype: float64"
      ]
     },
     "execution_count": 56,
     "metadata": {},
     "output_type": "execute_result"
    }
   ],
   "source": [
    "df.groupby('Region')['International trade: Imports (million US$)'].mean().sort_values(ascending=False)\n"
   ]
  },
  {
   "cell_type": "markdown",
   "id": "75dfb5f2",
   "metadata": {},
   "source": [
    "NorthernAmerica has the highest average International trade: Imports (million US$) which is equal to 663552.250000"
   ]
  },
  {
   "cell_type": "markdown",
   "id": "f052c243",
   "metadata": {},
   "source": [
    "# 5. Find out which region has more consistent with respect to GDP percapita (current US$)"
   ]
  },
  {
   "cell_type": "code",
   "execution_count": 57,
   "id": "ac3421d4",
   "metadata": {},
   "outputs": [
    {
     "data": {
      "text/plain": [
       "Region\n",
       "WesternAfrica          815.095399\n",
       "NorthernAfrica         974.706575\n",
       "SouthernAfrica        2177.551120\n",
       "SouthernAsia          2855.708179\n",
       "EasternAfrica         3716.131770\n",
       "CentralAsia           4152.215490\n",
       "CentralAmerica        4180.440883\n",
       "SouthAmerica          4273.707394\n",
       "Micronesia            4820.669694\n",
       "MiddleAfrica          5274.846281\n",
       "EasternEurope         5415.488739\n",
       "Polynesia             6956.250286\n",
       "Oceania               9233.329638\n",
       "SouthernEurope        9541.703216\n",
       "Melanesia            13855.842686\n",
       "Caribbean            14579.371326\n",
       "South-easternAsia    16311.810656\n",
       "WesternAsia          18812.151459\n",
       "NorthernEurope       20671.030185\n",
       "WesternEurope        24770.467728\n",
       "NorthernAmerica      25749.619445\n",
       "EasternAsia          27485.120923\n",
       "Name: GDP per capita (current US$), dtype: float64"
      ]
     },
     "execution_count": 57,
     "metadata": {},
     "output_type": "execute_result"
    }
   ],
   "source": [
    "df.groupby('Region')['GDP per capita (current US$)'].std().sort_values()\n"
   ]
  },
  {
   "cell_type": "markdown",
   "id": "8eeef124",
   "metadata": {},
   "source": [
    "The region WesternAfrica is more consistent with respect to GDP per capita"
   ]
  },
  {
   "cell_type": "code",
   "execution_count": null,
   "id": "13dc0843",
   "metadata": {},
   "outputs": [],
   "source": []
  }
 ],
 "metadata": {
  "kernelspec": {
   "display_name": "Python 3",
   "language": "python",
   "name": "python3"
  },
  "language_info": {
   "codemirror_mode": {
    "name": "ipython",
    "version": 3
   },
   "file_extension": ".py",
   "mimetype": "text/x-python",
   "name": "python",
   "nbconvert_exporter": "python",
   "pygments_lexer": "ipython3",
   "version": "3.8.8"
  }
 },
 "nbformat": 4,
 "nbformat_minor": 5
}
